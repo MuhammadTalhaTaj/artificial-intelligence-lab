{
  "nbformat": 4,
  "nbformat_minor": 0,
  "metadata": {
    "colab": {
      "provenance": [],
      "collapsed_sections": []
    },
    "kernelspec": {
      "name": "python3",
      "display_name": "Python 3"
    },
    "language_info": {
      "name": "python"
    }
  },
  "cells": [
    {
      "cell_type": "code",
      "execution_count": null,
      "metadata": {
        "id": "vtcRsH1rPsak"
      },
      "outputs": [],
      "source": [
        "myList1=[]\n",
        "myList2=[]\n",
        "for i in range(5):\n",
        "  n=input(\"enter number in list :\")\n",
        "  n=int(n)\n",
        "  myList1.append(n)\n",
        "\n",
        "print(myList1)\n",
        "\n",
        "for i in range(5):\n",
        "  n=input(\"enter number in list :\")\n",
        "  n=int(n)\n",
        "  myList2.append(n)  \n",
        "\n",
        "list=myList1+myList2\n",
        "print(list)\n",
        "     "
      ]
    },
    {
      "cell_type": "code",
      "source": [
        "def isPlindrome(word):\n",
        "  temp=word[::-1]\n",
        "  if temp.capitalize()==word.capitalize():\n",
        "    return True\n",
        "  else:\n",
        "    return False\n",
        "\n",
        "print(isPlindrome('dees'))"
      ],
      "metadata": {
        "colab": {
          "base_uri": "https://localhost:8080/"
        },
        "id": "9e3PiGMDWYkZ",
        "outputId": "154117d8-b64d-4e6b-c09f-9a538e2cf5f9"
      },
      "execution_count": null,
      "outputs": [
        {
          "output_type": "stream",
          "name": "stdout",
          "text": [
            "False\n"
          ]
        }
      ]
    },
    {
      "cell_type": "code",
      "source": [
        "a=[[1,0,0],[0,1,0],[0,0,1]]\n",
        "b=[[1,2,3],[4,5,6],[7,8,9]]\n",
        "c=[]\n",
        "for indrow in range (3):\n",
        "  c.append([])\n",
        "  for indcol in range(3):\n",
        "    c[indrow].append(0)\n",
        "    for  indaux in range (2):\n",
        "      c[indrow][indcol]+=a[indrow][indaux]*b[indcol][indaux]\n",
        "\n",
        "print(c)"
      ],
      "metadata": {
        "id": "CJkFboyHW7v2",
        "colab": {
          "base_uri": "https://localhost:8080/"
        },
        "outputId": "8ba2d475-1e16-4953-b9e1-14a4cfe29838"
      },
      "execution_count": null,
      "outputs": [
        {
          "output_type": "stream",
          "name": "stdout",
          "text": [
            "[[1, 4, 7], [2, 5, 8], [0, 0, 0]]\n"
          ]
        }
      ]
    },
    {
      "cell_type": "code",
      "source": [
        "\n",
        "\n",
        "def polygonArea(X, Y, n):\n",
        " \n",
        "   \n",
        "    area = 0.0\n",
        " \n",
        "    \n",
        "    j = n - 1\n",
        "    for i in range(0,n):\n",
        "        area += (X[j] + X[i]) * (Y[j] - Y[i])\n",
        "        j = i   \n",
        "     \n",
        " \n",
        "    \n",
        "    return int(abs(area / 2.0))\n",
        " \n",
        "\n",
        "X = [0, 2, 4]\n",
        "Y = [1, 3, 7]\n",
        "n = len(X)\n",
        "print(polygonArea(X, Y, n))"
      ],
      "metadata": {
        "id": "h7EhgVpZeoir",
        "colab": {
          "base_uri": "https://localhost:8080/"
        },
        "outputId": "680b7c56-cbcf-4f00-e52c-c2ffbae9225f"
      },
      "execution_count": 1,
      "outputs": [
        {
          "output_type": "stream",
          "name": "stdout",
          "text": [
            "2\n"
          ]
        }
      ]
    },
    {
      "cell_type": "code",
      "source": [
        "\n",
        "A = {'p', 'a', 'w', 'a', 'n'}\n",
        "B = {'r', 'a', 'o', 'n', 'e'}\n",
        "C = {}\n",
        " \n",
        "print(A.symmetric_difference(B))\n",
        "print(B.symmetric_difference(A))\n",
        " \n",
        "print(A.symmetric_difference(C))\n",
        "print(B.symmetric_difference(C))"
      ],
      "metadata": {
        "id": "df5Ao1O_xofO"
      },
      "execution_count": null,
      "outputs": []
    },
    {
      "cell_type": "code",
      "source": [
        "a=[]\n",
        "c=[]\n",
        "n1=int(input(\"Enter number of elements:\"))\n",
        "for i in range(1,n1+1):\n",
        "    b=int(input(\"Enter element:\"))\n",
        "    a.append(b)\n",
        "n2=int(input(\"Enter number of elements:\"))\n",
        "for i in range(1,n2+1):\n",
        "    d=int(input(\"Enter element:\"))\n",
        "    c.append(d)\n",
        "new=a+c\n",
        "new.sort()\n",
        "print(\"Sorted list is:\",new)"
      ],
      "metadata": {
        "id": "1bhxul3M2x3o"
      },
      "execution_count": null,
      "outputs": []
    },
    {
      "cell_type": "code",
      "source": [
        "a=[]\n",
        "c=[]\n",
        "n1=int(input(\"Enter number of elements:\"))\n",
        "for i in range(1,n1+1):\n",
        "    b=int(input(\"Enter element:\"))\n",
        "    a.append(b)\n",
        "n2=int(input(\"Enter number of elements:\"))\n",
        "for i in range(1,n2+1):\n",
        "    d=int(input(\"Enter element:\"))\n",
        "    c.append(d)\n",
        "new=a+c\n",
        "new.sort()\n",
        "\n",
        "max=new[0]\n",
        "h=1\n",
        "for h in range (len(new)):\n",
        "  if max<new[h]:\n",
        "    max=new[h]\n",
        "\n",
        "print(max)\n",
        "\n",
        "min=new[0]\n",
        "h=1\n",
        "for h in range (len(new)):\n",
        "  if min>new[h]:\n",
        "    min=new[h]\n",
        "\n",
        "print(min)\n",
        "\n",
        "\n",
        "\n",
        "print(\"Sorted list is:\",new)"
      ],
      "metadata": {
        "id": "35yJc77U3XYr"
      },
      "execution_count": null,
      "outputs": []
    },
    {
      "cell_type": "code",
      "source": [
        "birthdays = {'Jon': 'July 17', 'Shauna': 'Jan 27', 'Lynette': 'July 10'}\n",
        "\n",
        "while True:\n",
        "    print(\"Who's birthday is it that you are looking for? To cancel, press enter!\")\n",
        "    name = input()\n",
        "    if name == '':\n",
        "        break\n",
        "\n",
        "    if name in birthdays:\n",
        "        print(birthdays[name] + ' is the birthday of ' + name)\n",
        "    else:\n",
        "        print(\"I don't have that person's name in my archives. Would you like to add it? Press Y or N\")\n",
        "        answer = input()\n",
        "        if answer == 'Y':\n",
        "            new_name = name\n",
        "            print(\"Please enter their birthday\")\n",
        "            new_birthday = input()\n",
        "            birthdays[name] = new_birthday\n",
        "            print('It has been added')\n",
        "            print(new_name + \"'s birthday has been added as \" + new_birthday)\n",
        "            print('Here is a list of birthdays you have saved...')\n",
        "            print(birthdays)\n",
        "        else:\n",
        "            print('Alrighty Then')"
      ],
      "metadata": {
        "id": "_8_FREj57sYl"
      },
      "execution_count": null,
      "outputs": []
    },
    {
      "cell_type": "code",
      "source": [
        "sample_dict = {\n",
        " \"name\": \"Kelly\",\n",
        " \"age\": 25,\n",
        " \"salary\": 8000,\n",
        " \"city\": \"New york\"}\n",
        "\n",
        "keys = [\"name\", \"salary\"]\n",
        "\n",
        "print(keys)\n"
      ],
      "metadata": {
        "colab": {
          "base_uri": "https://localhost:8080/"
        },
        "id": "67TUvd8_8gA6",
        "outputId": "af2c8a94-bdea-4fc5-d02d-0c70f311aed1"
      },
      "execution_count": 3,
      "outputs": [
        {
          "output_type": "stream",
          "name": "stdout",
          "text": [
            "['name', 'salary']\n"
          ]
        }
      ]
    },
    {
      "cell_type": "code",
      "source": [],
      "metadata": {
        "id": "TtpAb2939jCF"
      },
      "execution_count": null,
      "outputs": []
    }
  ]
}