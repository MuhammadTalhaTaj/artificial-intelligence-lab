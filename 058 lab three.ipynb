{
  "nbformat": 4,
  "nbformat_minor": 0,
  "metadata": {
    "colab": {
      "provenance": []
    },
    "kernelspec": {
      "name": "python3",
      "display_name": "Python 3"
    },
    "language_info": {
      "name": "python"
    }
  },
  "cells": [
    {
      "cell_type": "code",
      "execution_count": 2,
      "metadata": {
        "id": "e5wCEC9LEhu5"
      },
      "outputs": [],
      "source": [
        "from traitlets import parse_notifier_name\n",
        "from os import stat_result\n",
        "class Node:\n",
        "  def __init__(self,state,parent,actions,totalCost):\n",
        "    self.State=state\n",
        "    self.parent=parent \n",
        "    self.actions=actions\n",
        "    self.totalCost=totalCost\n",
        "\n",
        "\n",
        "\n",
        "def BFS():\n",
        "  initialState='D'\n",
        "  goalState='F'\n",
        "\n",
        "  graph={\n",
        "      'A': Node('A',None,['B','C','E'],None),\n",
        "      'B': Node('B',None,['A','D','E'],None),\n",
        "      'D': Node('C',None,['A','F','G'],None),\n",
        "      'D': Node('D',None,['B','E'],None),\n",
        "      'E': Node('E',None,['A','B','D'],None),\n",
        "      'F': Node('F',None,['C'],None),\n",
        "      'G': Node('G',None,['C'],None),\n",
        "  }\n",
        "  "
      ]
    },
    {
      "cell_type": "code",
      "source": [
        "from traitlets import parse_notifier_name\n",
        "from os import stat_result\n",
        "class Node:\n",
        "  def __init__(self,state,parent,actions,totalCost):\n",
        "    self.State=state\n",
        "    self.parent=parent \n",
        "    self.actions=actions\n",
        "    self.totalCost=totalCost\n",
        "\n",
        "\n",
        "\n",
        "def BFS():\n",
        "  initialState='D'\n",
        "  goalState='F'\n",
        "\n",
        "  graph={\n",
        "      'A': Node('A',None,['B','C','E'],None),\n",
        "      'B': Node('B',None,['A','D','E'],None),\n",
        "      'D': Node('C',None,['A','F','G'],None),\n",
        "      'D': Node('D',None,['B','E'],None),\n",
        "      'E': Node('E',None,['A','B','D'],None),\n",
        "      'F': Node('F',None,['C'],None),\n",
        "      'G': Node('G',None,['C'],None)}\n",
        "\n",
        "      frontier=[initialState]\n",
        "      explored=[]\n",
        "while len(frontier)!=0:\n",
        "  currentNode=frontier.pop(0)\n",
        "  explored.append(currentNode)\n",
        "  for child in graph[currentNode].actions:\n",
        "    if child not in frontier and child not in explored:\n",
        "      graph[child].parent=currentNode\n",
        "      if graph[child].state==goalState:\n",
        "        return actionSequence(graph,initState,goalState)\n",
        "      frontier.append(child)\n",
        "\n",
        "  "
      ],
      "metadata": {
        "id": "HYfjYocdGAQc"
      },
      "execution_count": null,
      "outputs": []
    }
  ]
}