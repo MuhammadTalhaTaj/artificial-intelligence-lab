{
  "nbformat": 4,
  "nbformat_minor": 0,
  "metadata": {
    "colab": {
      "provenance": [],
      "collapsed_sections": []
    },
    "kernelspec": {
      "name": "python3",
      "display_name": "Python 3"
    },
    "language_info": {
      "name": "python"
    }
  },
  "cells": [
    {
      "cell_type": "code",
      "execution_count": null,
      "metadata": {
        "id": "vtcRsH1rPsak"
      },
      "outputs": [],
      "source": [
        "myList1=[]\n",
        "myList2=[]\n",
        "for i in range(5):\n",
        "  n=input(\"enter number in list :\")\n",
        "  n=int(n)\n",
        "  myList1.append(n)\n",
        "\n",
        "print(myList1)\n",
        "\n",
        "for i in range(5):\n",
        "  n=input(\"enter number in list :\")\n",
        "  n=int(n)\n",
        "  myList2.append(n)  \n",
        "\n",
        "list=myList1+myList2\n",
        "print(list)\n",
        "     "
      ]
    },
    {
      "cell_type": "code",
      "source": [
        "def isPlindrome(word):\n",
        "  temp=word[::-1]\n",
        "  if temp.capitalize()==word.capitalize():\n",
        "    return True\n",
        "  else:\n",
        "    return False\n",
        "\n",
        "print(isPlindrome('dees'))"
      ],
      "metadata": {
        "colab": {
          "base_uri": "https://localhost:8080/"
        },
        "id": "9e3PiGMDWYkZ",
        "outputId": "154117d8-b64d-4e6b-c09f-9a538e2cf5f9"
      },
      "execution_count": null,
      "outputs": [
        {
          "output_type": "stream",
          "name": "stdout",
          "text": [
            "False\n"
          ]
        }
      ]
    },
    {
      "cell_type": "code",
      "source": [
        "a=[[1,0,0],[0,1,0],[0,0,1]]\n",
        "b=[[1,2,3],[4,5,6],[7,8,9]]\n",
        "c=[]\n",
        "for indrow in range (3):\n",
        "  c.append([])\n",
        "  for indcol in range(3):\n",
        "    c[indrow].append(0)\n",
        "    for  indaux in range (2):\n",
        "      c[indrow][indcol]+=a[indrow][indaux]*b[indcol][indaux]\n",
        "\n",
        "print(c)"
      ],
      "metadata": {
        "id": "CJkFboyHW7v2",
        "colab": {
          "base_uri": "https://localhost:8080/"
        },
        "outputId": "8ba2d475-1e16-4953-b9e1-14a4cfe29838"
      },
      "execution_count": null,
      "outputs": [
        {
          "output_type": "stream",
          "name": "stdout",
          "text": [
            "[[1, 4, 7], [2, 5, 8], [0, 0, 0]]\n"
          ]
        }
      ]
    },
    {
      "cell_type": "code",
      "source": [
        "\n",
        "\n",
        "def polygonArea(X, Y, n):\n",
        " \n",
        "   \n",
        "    area = 0.0\n",
        " \n",
        "    \n",
        "    j = n - 1\n",
        "    for i in range(0,n):\n",
        "        area += (X[j] + X[i]) * (Y[j] - Y[i])\n",
        "        j = i   \n",
        "     \n",
        " \n",
        "    \n",
        "    return int(abs(area / 2.0))\n",
        " \n",
        "\n",
        "X = [0, 2, 4]\n",
        "Y = [1, 3, 7]\n",
        "n = len(X)\n",
        "print(polygonArea(X, Y, n))"
      ],
      "metadata": {
        "id": "h7EhgVpZeoir",
        "colab": {
          "base_uri": "https://localhost:8080/"
        },
        "outputId": "680b7c56-cbcf-4f00-e52c-c2ffbae9225f"
      },
      "execution_count": 1,
      "outputs": [
        {
          "output_type": "stream",
          "name": "stdout",
          "text": [
            "2\n"
          ]
        }
      ]
    },
    {
      "cell_type": "code",
      "source": [
        "\n",
        "A = {'p', 'a', 'w', 'a', 'n'}\n",
        "B = {'r', 'a', 'o', 'n', 'e'}\n",
        "C = {}\n",
        " \n",
        "print(A.symmetric_difference(B))\n",
        "print(B.symmetric_difference(A))\n",
        " \n",
        "print(A.symmetric_difference(C))\n",
        "print(B.symmetric_difference(C))"
      ],
      "metadata": {
        "id": "df5Ao1O_xofO"
      },
      "execution_count": null,
      "outputs": []
    }
  ]
}