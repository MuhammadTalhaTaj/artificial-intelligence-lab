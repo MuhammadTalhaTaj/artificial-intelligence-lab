{
  "nbformat": 4,
  "nbformat_minor": 0,
  "metadata": {
    "colab": {
      "provenance": [],
      "toc_visible": true,
      "collapsed_sections": []
    },
    "kernelspec": {
      "name": "python3",
      "display_name": "Python 3"
    },
    "language_info": {
      "name": "python"
    }
  },
  "cells": [
    {
      "cell_type": "code",
      "execution_count": 1,
      "metadata": {
        "id": "qABnFx262wrd",
        "colab": {
          "base_uri": "https://localhost:8080/"
        },
        "outputId": "c8e667c2-b9a7-40b1-9b80-10d698c55413"
      },
      "outputs": [
        {
          "output_type": "stream",
          "name": "stdout",
          "text": [
            "enter a number 5\n",
            "given number is odd\n"
          ]
        }
      ],
      "source": [
        "n=int(input('enter a number '))\n",
        "if(n%2==0):\n",
        "  print('given number is even')\n",
        "else:\n",
        "  print('given number is odd')\n",
        "  "
      ]
    },
    {
      "cell_type": "code",
      "source": [
        "n=int(input('enter a number'))\n",
        "sum=0\n",
        "while n!=0:\n",
        "  sum=sum+n\n",
        "  n=int(input('enter a number'))\n",
        "print (sum)"
      ],
      "metadata": {
        "colab": {
          "base_uri": "https://localhost:8080/"
        },
        "id": "IJgZ9YJnB1Bo",
        "outputId": "a3c6f195-d337-4e4b-c041-0959e445f9e3"
      },
      "execution_count": 2,
      "outputs": [
        {
          "output_type": "stream",
          "name": "stdout",
          "text": [
            "enter a number5\n",
            "enter a number4\n",
            "enter a number2\n",
            "enter a number1\n",
            "enter a number0\n",
            "12\n"
          ]
        }
      ]
    },
    {
      "cell_type": "code",
      "source": [
        "from re import T\n",
        "# Actitvity 3\n",
        "\n",
        "isPrime=True\n",
        "i=2\n",
        "n=int(input('enter a number'))\n",
        "while i<n:\n",
        "  if n%i==0:\n",
        "    isPrime=False\n",
        "    break\n",
        "  else:\n",
        "    i=i+1\n",
        "if isPrime:\n",
        "  print('Prime')\n",
        "else:\n",
        "  print('not prime')\n",
        "  "
      ],
      "metadata": {
        "colab": {
          "base_uri": "https://localhost:8080/"
        },
        "id": "WfG-geuCChfe",
        "outputId": "3b22298f-7a5b-4a05-b0fc-9c371474322f"
      },
      "execution_count": 4,
      "outputs": [
        {
          "output_type": "stream",
          "name": "stdout",
          "text": [
            "enter a number9\n",
            "not prime\n"
          ]
        }
      ]
    },
    {
      "cell_type": "code",
      "source": [
        "\n",
        "sum=0\n",
        "i=0\n",
        "while i<=4:\n",
        "    n=int(input('enter a number'))\n",
        "    sum=sum+n\n",
        "    i=i+1\n",
        "print (sum)"
      ],
      "metadata": {
        "colab": {
          "base_uri": "https://localhost:8080/"
        },
        "id": "QXM5IJ1tGMJt",
        "outputId": "8f96c0a8-96d9-4af7-b344-d25e6c1b1fba"
      },
      "execution_count": 9,
      "outputs": [
        {
          "output_type": "stream",
          "name": "stdout",
          "text": [
            "enter a number1\n",
            "enter a number2\n",
            "enter a number3\n",
            "enter a number4\n",
            "enter a number5\n",
            "15\n"
          ]
        }
      ]
    },
    {
      "cell_type": "code",
      "source": [
        "sum=0\n",
        "i=0\n",
        "while i<=10:\n",
        "  \n",
        "    sum=sum+i\n",
        "    i=i+1\n",
        "print (sum)"
      ],
      "metadata": {
        "colab": {
          "base_uri": "https://localhost:8080/"
        },
        "id": "R3e2DqYQG2Kd",
        "outputId": "472d342b-3919-4c05-f23c-60d7ae3fc85f"
      },
      "execution_count": 10,
      "outputs": [
        {
          "output_type": "stream",
          "name": "stdout",
          "text": [
            "55\n"
          ]
        }
      ]
    },
    {
      "cell_type": "code",
      "source": [
        "import random\n",
        "min=0\n",
        "max=0\n",
        "num=random.randint(min,max)\n",
        "Try=0\n",
        "run=True\n",
        "while run:\n",
        "\n",
        "  guess=input('Enter lucky number')\n",
        "  \n",
        "\n",
        "\n",
        "  try:\n",
        "    if(int(guess)<num):\n",
        "     print('low')\n",
        "    elif(int(guess)>num):\n",
        "     print('high')\n",
        " \n",
        "    elif(int(guess)==num):\n",
        "     print('you won')\n",
        "     run=False\n",
        "\n",
        "  except:\n",
        "   if(guess=='exit'):\n",
        "     run=False\n",
        "  Try+=1\n"
      ],
      "metadata": {
        "colab": {
          "base_uri": "https://localhost:8080/"
        },
        "id": "BgPLxuvMLcAB",
        "outputId": "f59069f7-b1e7-43b4-e9b9-d89a7917580d"
      },
      "execution_count": 14,
      "outputs": [
        {
          "name": "stdout",
          "output_type": "stream",
          "text": [
            "Enter lucky number5\n",
            "high\n",
            "Enter lucky number4\n",
            "high\n",
            "Enter lucky number2\n",
            "high\n",
            "Enter lucky number9\n",
            "high\n",
            "Enter lucky number5\n",
            "high\n",
            "Enter lucky number4\n",
            "high\n",
            "Enter lucky number7\n",
            "high\n",
            "Enter lucky number9\n",
            "high\n",
            "Enter lucky number\n",
            "Enter lucky numberw\n",
            "Enter lucky number4\n",
            "high\n",
            "Enter lucky number6\n",
            "high\n",
            "Enter lucky number3\n",
            "high\n",
            "Enter lucky number2\n",
            "high\n",
            "Enter lucky number5\n",
            "high\n",
            "Enter lucky number7\n",
            "high\n",
            "Enter lucky number\n",
            "Enter lucky number6\n",
            "high\n",
            "Enter lucky number33\n",
            "high\n",
            "Enter lucky number3\n",
            "high\n",
            "Enter lucky number\n",
            "Enter lucky number2\n",
            "high\n",
            "Enter lucky number9\n",
            "high\n",
            "Enter lucky number6\n",
            "high\n",
            "Enter lucky numberexit\n"
          ]
        }
      ]
    }
  ]
}