{
  "nbformat": 4,
  "nbformat_minor": 0,
  "metadata": {
    "colab": {
      "provenance": []
    },
    "kernelspec": {
      "name": "python3",
      "display_name": "Python 3"
    },
    "language_info": {
      "name": "python"
    }
  },
  "cells": [
    {
      "cell_type": "code",
      "execution_count": null,
      "metadata": {
        "id": "hYvI97JEL7ta",
        "colab": {
          "base_uri": "https://localhost:8080/"
        },
        "outputId": "f4dc413b-516d-41e5-d172-09cd7612d08e"
      },
      "outputs": [
        {
          "output_type": "stream",
          "name": "stdout",
          "text": [
            "inf\n"
          ]
        }
      ],
      "source": [
        "reverse=0\n",
        "num=54321\n",
        "while num!=0:\n",
        "  number=num%10\n",
        "  reverse=(reverse*10)+number\n",
        "  num=num/10\n",
        "print(str(reverse))"
      ]
    },
    {
      "cell_type": "code",
      "source": [
        "evenSum=0\n",
        "oddSum=0\n",
        "n=1234568\n",
        "while n!=0:\n",
        "  last_num=n%10\n",
        "  if(last_num%2==0):\n",
        "    evenSum+=last_num\n",
        "  else:\n",
        "    oddSum+=last_num\n",
        "  n=int(n/10)\n",
        "print(evenSum)\n",
        "print(oddSum)\n"
      ],
      "metadata": {
        "id": "6tjfK0Muyqen",
        "colab": {
          "base_uri": "https://localhost:8080/"
        },
        "outputId": "dd512abf-e064-47fa-fd32-1fec77f61d1b"
      },
      "execution_count": null,
      "outputs": [
        {
          "output_type": "stream",
          "name": "stdout",
          "text": [
            "20\n",
            "9\n"
          ]
        }
      ]
    },
    {
      "cell_type": "code",
      "source": [
        "c=0\n",
        "n=int(input('enter :'))\n",
        "prev=0\n",
        "next=1\n",
        "if n<=0:\n",
        "  print('Enter postive number')\n",
        "elif n==1:\n",
        "  print(prev)\n",
        "else:\n",
        "  while c<n:\n",
        "    print(prev)\n",
        "    nth=prev+next\n",
        "    prev=next\n",
        "    next=nth\n",
        "    c+=1\n",
        "\n",
        "  "
      ],
      "metadata": {
        "id": "JDp4x5I8Wfw9",
        "colab": {
          "base_uri": "https://localhost:8080/"
        },
        "outputId": "a8611965-174c-427f-c92a-7d0fc9b05f89"
      },
      "execution_count": 1,
      "outputs": [
        {
          "output_type": "stream",
          "name": "stdout",
          "text": [
            "enter :5\n",
            "0\n",
            "1\n",
            "1\n",
            "2\n",
            "3\n"
          ]
        }
      ]
    },
    {
      "cell_type": "code",
      "source": [
        "num=int(input('enter a num'))\n",
        "\n",
        "if num<50:\n",
        "  print('F')\n",
        "elif num>50 and num<60:\n",
        "  print('E')\n",
        "elif num>60 and num<70:\n",
        "  print('D')\n",
        "elif num>70 and num<80:\n",
        "  print('c')\n",
        "elif num>80 and num<90:\n",
        "  print('B')\n",
        "else:\n",
        "  print('A')"
      ],
      "metadata": {
        "colab": {
          "base_uri": "https://localhost:8080/"
        },
        "id": "TpbAEdiBMc8s",
        "outputId": "46a1eb0c-16e3-490d-ccc5-963ecd9bfc5e"
      },
      "execution_count": 3,
      "outputs": [
        {
          "output_type": "stream",
          "name": "stdout",
          "text": [
            "enter a num30\n",
            "F\n"
          ]
        }
      ]
    },
    {
      "cell_type": "code",
      "source": [
        "num=int(input('enter a num'))\n",
        "fac=1\n",
        "for i in range(num):\n",
        "  fac=fac*(i+1)\n",
        "print(fac)\n",
        "\n"
      ],
      "metadata": {
        "colab": {
          "base_uri": "https://localhost:8080/"
        },
        "id": "8aQW1ta1Nc4N",
        "outputId": "825f831b-2613-47aa-f525-d2860ddd7740"
      },
      "execution_count": 5,
      "outputs": [
        {
          "output_type": "stream",
          "name": "stdout",
          "text": [
            "enter a num5\n",
            "120\n"
          ]
        }
      ]
    }
  ]
}